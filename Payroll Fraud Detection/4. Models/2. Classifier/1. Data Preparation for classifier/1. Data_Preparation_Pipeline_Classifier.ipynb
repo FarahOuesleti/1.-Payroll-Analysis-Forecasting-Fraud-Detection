{
 "cells": [
  {
   "cell_type": "code",
   "execution_count": 1,
   "id": "dd00a1c9-6371-4c85-b108-c798854ae254",
   "metadata": {},
   "outputs": [],
   "source": [
    "import numpy as np \n",
    "import pandas as pd \n",
    "import math"
   ]
  },
  {
   "cell_type": "code",
   "execution_count": 3,
   "id": "b65035d2-364c-4fe8-bc3e-087188f86443",
   "metadata": {},
   "outputs": [
    {
     "name": "stdout",
     "output_type": "stream",
     "text": [
      "Ghost_real : 926366, Unique MATCLE : 6590,  Unique 10.000 : 207\n",
      "Time_real : 701441, Unique MATCLE : 14422,  Unique 10.000 : 436\n",
      "Misc_real : 60228, Unique MATCLE : 42124,  Unique 10.000 : 2631\n"
     ]
    }
   ],
   "source": [
    "print(f\"Ghost_real : {len(df_G_Real)}, Unique ID : {len(df_G_Real['ID'].unique())},  Unique 10.000 : {len(df_G_Real.iloc[:5000,17].unique())}\")\n",
    "print(f\"Time_real : {len(df_T_Real)}, Unique ID : {len(df_T_Real['ID'].unique())},  Unique 10.000 : {len(df_T_Real.iloc[:5000,10].unique())}\")\n",
    "print(f\"Misc_real : {len(df_M_Real)}, Unique ID : {len(df_M_Real['ID'].unique())},  Unique 10.000 : {len(df_M_Real.iloc[:5000,21].unique())}\")"
   ]
  },
  {
   "cell_type": "markdown",
   "id": "b6032470-eb63-4eaa-b590-b1c6bffb64a9",
   "metadata": {},
   "source": [
    "(48-57) : numbers\n",
    "\n",
    "(65-90) : uppercase\n",
    "\n",
    "(97-122) : lowercase "
   ]
  },
  {
   "cell_type": "markdown",
   "id": "5c760d25-3f97-416d-ba80-d3874c2b47a7",
   "metadata": {},
   "source": [
    "# Full Pipeline for Fraud & Real Data\n",
    "\n",
    "We will define a set of functions that perform data preparation in a Final Usable state for the classifier models.\n",
    "We define these steps for each Fraud type Data : \n",
    "- Anonymization step of Batch Fraud data\n",
    "- Formatting of Batch Fraud Data label (Fraud column values)\n",
    "- Appending Batch Fraud Data to last update Clean Fraud Data\n",
    "- Creating a 1/5 balanced dataset of Fraud data + Real data, based on DataFrames input\n",
    "\n",
    "\n",
    "INPUT : \n",
    "- DataFrame of Fraud data type i (raw generated in csv format)\n",
    "- DataFrame of Fraud data type i (anonymized full usable data)"
   ]
  },
  {
   "cell_type": "markdown",
   "id": "50f7145d-f11c-453e-8f91-476eee8315bb",
   "metadata": {},
   "source": [
    "## Anonymization Functions"
   ]
  },
  {
   "cell_type": "code",
   "execution_count": 2,
   "id": "1ce66849-3608-4063-a5bf-12c1392792de",
   "metadata": {},
   "outputs": [],
   "source": [
    "## GHOST & TIMESHEET DATA\n",
    "\n",
    "def encodePersonID_Gh_Time(df,L) :\n",
    "    if len(df['PersonID'].unique())>len(L) :\n",
    "        return 'Not enough IDs to assign to dataset'\n",
    "    i=0\n",
    "    j=0\n",
    "    k=-1\n",
    "    while i <len(df) : \n",
    "        val = df.iloc[i,0]\n",
    "        k+=1\n",
    "        print(k)\n",
    "        while j<len(df) and val == df.iloc[j,0] : \n",
    "            df.iloc[j,0] = L.iloc[k,0]\n",
    "            j+=1\n",
    "        i=j\n",
    "        # L.iloc[1:].reset_index(drop=True)\n",
    "        # L.tail(-1).reset_index(drop=True, inplace = True)\n",
    "        L.drop(index=L.index[0]).reset_index(drop=True)\n",
    "        # print(f\" i,j = {i,j} , val[i] = {val},  , L value =  {L.iloc[i,0]} , df id value =  {df.iloc[i,0]}\" )\n",
    "    return df,L.iloc[k:,]\n",
    "    # return df,L "
   ]
  },
  {
   "cell_type": "code",
   "execution_count": 16,
   "id": "c62254fb-58d5-48da-a4f8-f6ea551f8be0",
   "metadata": {},
   "outputs": [],
   "source": [
    "## Misclass\n",
    "\n",
    "def encodePersonID_Misc(df,L) : \n",
    "    for i in range(len(df)) :\n",
    "        # print(f\" i = {i} , L size =  {L.iloc[i,0]} , df size =  {df.iloc[i,0]}\" )\n",
    "        df.iloc[i,0] = L.iloc[i,0]\n",
    "        # L.iloc[1:].reset_index(drop=True)\n",
    "        # L.tail(-1).reset_index(drop=True, inplace = True)\n",
    "        L.drop(index=L.index[0]).reset_index(drop=True)\n",
    "        print(L.shape)\n",
    "    return df,L.iloc[len(df):,]\n",
    "    # return df,L"
   ]
  },
  {
   "cell_type": "markdown",
   "id": "88a6d95d-9550-4c0a-b05b-1c1e2cc1a249",
   "metadata": {},
   "source": [
    "## Main Process Functions"
   ]
  },
  {
   "cell_type": "code",
   "execution_count": 4,
   "id": "9f74d018-7fd4-4473-aa6b-732bd6877364",
   "metadata": {},
   "outputs": [],
   "source": [
    "# GHOST & TIMESHEET\n",
    "\n",
    "def append_Last_Update_Fraud_GH_Time(df_fraud_new,df_Fraud_last_update,df_real_data,L,Fraud_Type) : \n",
    "    df_anonym, L_upd = encodePersonID_Gh_Time(df_fraud_new, L)\n",
    "\n",
    "    # Modifications on Fraud data\n",
    "    df_anonym.columns = df_anonym.columns.str.strip()\n",
    "    if 'Explanation' in df_anonym.columns : \n",
    "        df_anonym.drop('Explanation', inplace=True, axis=1)\n",
    "    if 'Explanation' in df_Fraud_last_update.columns : \n",
    "        df_Fraud_last_update.drop('Explanation', inplace=True, axis=1)\n",
    "\n",
    "    \n",
    "    # Labelization\n",
    "    if Fraud_Type == \"Ghost\" : \n",
    "        df_anonym[\"Fraud\"] = 1\n",
    "        df_Fraud_last_update[\"Fraud\"] = 1\n",
    "    elif Fraud_Type == \"Timesheet\" : \n",
    "        df_anonym[\"Fraud\"] = 2\n",
    "        df_Fraud_last_update[\"Fraud\"] = 2\n",
    "\n",
    "    # Labelization real data\n",
    "    if 'Fraud' not in df_real_data.columns : \n",
    "        df_real_data[\"Fraud\"] = 0\n",
    "    \n",
    "    # Appending to latest update fraud data\n",
    "    df_Fraud_upd = pd.concat([df_anonym,df_Fraud_last_update],ignore_index= True)\n",
    "    \n",
    "    # Appending to Real data\n",
    "    n = df_Fraud_upd.shape[0]*5\n",
    "    print(n)\n",
    "    df_full = pd.concat([df_Fraud_upd,df_real_data.iloc[:n,:]],ignore_index= True)\n",
    "\n",
    "    return L_upd, df_Fraud_upd, df_full\n",
    "    "
   ]
  },
  {
   "cell_type": "code",
   "execution_count": 17,
   "id": "9ac8cb37-8280-46a6-bba9-f740e55da5eb",
   "metadata": {},
   "outputs": [],
   "source": [
    "# Misclassif\n",
    "\n",
    "def append_Last_Update_Fraud_Misc(df_fraud_new,df_Fraud_last_update,df_real_data,L) : \n",
    "    df_anonym, L_upd = encodePersonID_Misc(df_fraud_new, L)\n",
    "    print(L.shape)\n",
    "    \n",
    "    # Treatments for json file\n",
    "    df_anonym.columns = df_anonym.columns.str.strip()\n",
    "    if 'Explanation' in df_anonym.columns : \n",
    "        df_anonym.drop('Explanation', inplace=True, axis=1)\n",
    "    # df_anonym.drop('Position', inplace=True, axis=1)\n",
    "    \n",
    "    # Labelization\n",
    "    df_anonym[\"Fraud\"] = 3\n",
    "\n",
    "    # Appending to latest update fraud data\n",
    "    df_Fraud_upd_M = pd.concat([df_anonym,df_Fraud_last_update],ignore_index= True)\n",
    "    \n",
    "    # Appending to Real data\n",
    "    n = df_Fraud_upd_M.shape[0]*5\n",
    "    df_full_M = pd.concat([df_Fraud_upd_M,df_real_data.iloc[:n,:]],ignore_index= True)\n",
    "\n",
    "    # Saving\n",
    "    L_upd.to_csv(r\"C:\\Users\\LENOVO\\Desktop\\Payroll_PFE\\Payroll Fraud Detection\\4. Models\\2. Classifier\\ID_Encoding\\L_upd_M2.csv\",index=False)\n",
    "    df_Fraud_upd_M.to_csv(r\"C:\\Users\\LENOVO\\Desktop\\Payroll_PFE\\Payroll Fraud Detection\\4. Models\\2. Classifier\\0. Classifier Data\\df_fraud_last_upd\\upd_M_2.csv\",index=False)\n",
    "    df_full_M.to_csv(r\"C:\\Users\\LENOVO\\Desktop\\Payroll_PFE\\Payroll Fraud Detection\\4. Models\\2. Classifier\\0. Classifier Data\\df_full\\df_full_M2.csv\",index=False)\n",
    "    \n",
    "    return L_upd, df_Fraud_upd_M, df_full_M\n",
    "    "
   ]
  },
  {
   "cell_type": "markdown",
   "id": "dd5cf76b-b330-475b-af6b-6638a3459a21",
   "metadata": {},
   "source": [
    "# Pipeline Execution"
   ]
  },
  {
   "cell_type": "markdown",
   "id": "c56a7cdd-c78a-4e03-93fa-bac3a0548bb4",
   "metadata": {},
   "source": [
    "## Ghost Fraud"
   ]
  },
  {
   "cell_type": "markdown",
   "id": "98ccb294-cb7e-49ff-b51e-e5314cacb64b",
   "metadata": {},
   "source": [
    "### Load"
   ]
  },
  {
   "cell_type": "code",
   "execution_count": 108,
   "id": "3fc13e5e-a7bc-4330-8c7b-55cf81b15cb5",
   "metadata": {},
   "outputs": [],
   "source": [
    "file_name_g = \"G2-5-6\"\n",
    "# file_name_g = \"json_ghost\""
   ]
  },
  {
   "cell_type": "code",
   "execution_count": 109,
   "id": "8d534202-19be-4c50-9832-35bd6e308a54",
   "metadata": {},
   "outputs": [],
   "source": [
    "## Load New Fraud Data\n",
    "path_fr_g=r\"C:\\Users\\LENOVO\\Desktop\\Payroll_PFE\\Payroll Fraud Detection\\4. Models\\1. ADAPT-LLM\\Data_Fraud\\Fraud_Clean_data_pre-anon\\Ghost\\\\\"\n",
    "df_fraud_new_g = pd.read_json(path_fr_g + file_name_g + \".json\")"
   ]
  },
  {
   "cell_type": "code",
   "execution_count": 110,
   "id": "f39cdaf4-6669-4713-9ab6-bd9d70029599",
   "metadata": {},
   "outputs": [],
   "source": [
    "## Load real data\n",
    "df_real_G = pd.read_csv(r\"C:\\Users\\LENOVO\\Desktop\\Payroll_PFE\\Payroll Fraud Detection\\4. Models\\2. Classifier\\Anonym Real Data\\df_G_Real_anonym.csv\")\n",
    "## Load Last updates\n",
    "df_fraud_last_upd_g = pd.read_csv(r\"C:\\Users\\LENOVO\\Desktop\\Payroll_PFE\\Payroll Fraud Detection\\4. Models\\2. Classifier\\0. Classifier Data\\df_fraud_last_upd\\Archive\\upd_G_1.csv\")\n",
    "L_G = pd.read_csv(r\"C:\\Users\\LENOVO\\Desktop\\Payroll_PFE\\Payroll Fraud Detection\\4. Models\\2. Classifier\\ID_Encoding\\ArchiveBis\\L_upd_G_1.csv\")"
   ]
  },
  {
   "cell_type": "markdown",
   "id": "a17df621-9f79-4778-8b1a-134dad3f6f63",
   "metadata": {},
   "source": [
    "### Process"
   ]
  },
  {
   "cell_type": "code",
   "execution_count": null,
   "id": "01b7d5fb-e6d5-4d2e-94a2-8edc2823317d",
   "metadata": {},
   "outputs": [],
   "source": [
    "L_upd_G, df_Fraud_upd_G, df_full_G = append_Last_Update_Fraud_GH_Time(df_fraud_new_g, df_fraud_last_upd_g, df_real_G, L_G,\"Ghost\")"
   ]
  },
  {
   "cell_type": "markdown",
   "id": "94616e2b-29ea-4271-bc1a-41a2890282ae",
   "metadata": {},
   "source": [
    "### Save updates"
   ]
  },
  {
   "cell_type": "code",
   "execution_count": 116,
   "id": "52d1a6d7-5ee7-4790-ab0c-e6b89f6d5ff9",
   "metadata": {},
   "outputs": [],
   "source": [
    "L_upd_G.to_csv(r\"C:\\Users\\LENOVO\\Desktop\\Payroll_PFE\\Payroll Fraud Detection\\4. Models\\2. Classifier\\ID_Encoding\\L_upd_G_2.csv\",index=False)\n",
    "df_Fraud_upd_G.to_csv(r\"C:\\Users\\LENOVO\\Desktop\\Payroll_PFE\\Payroll Fraud Detection\\4. Models\\2. Classifier\\0. Classifier Data\\df_fraud_last_upd\\upd_G_2.csv\",index=False)\n",
    "df_full_G.to_csv(r\"C:\\Users\\LENOVO\\Desktop\\Payroll_PFE\\Payroll Fraud Detection\\4. Models\\2. Classifier\\0. Classifier Data\\df_full\\df_full_G_2.csv\",index=False)    "
   ]
  },
  {
   "cell_type": "markdown",
   "id": "267095c2-7ee4-4dcc-89c5-2053269957d3",
   "metadata": {},
   "source": [
    "## Timesheet Fraud"
   ]
  },
  {
   "cell_type": "markdown",
   "id": "13cdbae2-713f-40c2-848e-7c6a3a6666d1",
   "metadata": {},
   "source": [
    "### Load"
   ]
  },
  {
   "cell_type": "code",
   "execution_count": 88,
   "id": "93b53c54-956e-4b21-b74f-f0d825f91914",
   "metadata": {},
   "outputs": [],
   "source": [
    "file_name_t = \"T1-2-19-24-3-4-15-8-9-17-18\"\n",
    "# file_name_t = \"T6&10_plus_models_testing_kpis_output\""
   ]
  },
  {
   "cell_type": "code",
   "execution_count": 89,
   "id": "e704ff3c-2056-4cee-b97e-a9755643654a",
   "metadata": {},
   "outputs": [],
   "source": [
    "## Load New Fraud Data\n",
    "path_fr_t= r\"C:\\Users\\LENOVO\\Desktop\\Payroll_PFE\\Payroll Fraud Detection\\4. Models\\1. ADAPT-LLM\\Data_Fraud\\Fraud_Clean_data_pre-anon\\Timesheet\\\\\"\n",
    "# df_fraud_new_t = pd.read_csv(path_fr_t+file_name_t+\".csv\")\n",
    "df_fraud_new_t = pd.read_json(path_fr_t+file_name_t+\".json\")"
   ]
  },
  {
   "cell_type": "code",
   "execution_count": 92,
   "id": "2ec02c01-e5b1-4c10-9c3a-2e9bb0c1a97c",
   "metadata": {},
   "outputs": [],
   "source": [
    "## Load real data\n",
    "df_real_T = pd.read_csv(r\"C:\\Users\\LENOVO\\Desktop\\Payroll_PFE\\Payroll Fraud Detection\\4. Models\\2. Classifier\\Anonym Real Data\\df_T_Real_anonym.csv\")\n",
    "## Load last updates\n",
    "df_fraud_last_upd_t = pd.read_csv(r\"C:\\Users\\LENOVO\\Desktop\\Payroll_PFE\\Payroll Fraud Detection\\4. Models\\2. Classifier\\0. Classifier Data\\df_fraud_last_upd\\Archive\\upd_T_1.csv\")\n",
    "L_T = pd.read_csv(r\"C:\\Users\\LENOVO\\Desktop\\Payroll_PFE\\Payroll Fraud Detection\\4. Models\\2. Classifier\\ID_Encoding\\ArchiveBis\\L_upd_T1.csv\")"
   ]
  },
  {
   "cell_type": "markdown",
   "id": "991e3ac8-3aa6-492f-8252-a6e5a4967203",
   "metadata": {},
   "source": [
    "### Process"
   ]
  },
  {
   "cell_type": "code",
   "execution_count": null,
   "id": "ba0ce8db-1da1-4279-a831-cfbb4184de3f",
   "metadata": {
    "scrolled": true
   },
   "outputs": [],
   "source": [
    "L_upd_T, df_Fraud_upd_T, df_full_T = append_Last_Update_Fraud_GH_Time(df_fraud_new_t, df_fraud_last_upd_t, df_real_T, L_T, \"Timesheet\")"
   ]
  },
  {
   "cell_type": "markdown",
   "id": "eb021753-6dbd-4ed6-8429-3e61fabf05f7",
   "metadata": {},
   "source": [
    "### Save updates"
   ]
  },
  {
   "cell_type": "code",
   "execution_count": 98,
   "id": "bf69bc34-2bdf-4963-9d9d-70219ac9503a",
   "metadata": {},
   "outputs": [],
   "source": [
    "L_upd_T.to_csv(r\"C:\\Users\\LENOVO\\Desktop\\Payroll_PFE\\Payroll Fraud Detection\\4. Models\\2. Classifier\\ID_Encoding\\ArchiveBis\\L_upd_T2.csv\", index=False)\n",
    "df_Fraud_upd_T.to_csv(r\"C:\\Users\\LENOVO\\Desktop\\Payroll_PFE\\Payroll Fraud Detection\\4. Models\\2. Classifier\\0. Classifier Data\\df_fraud_last_upd\\upd_T_2.csv\",index=False)\n",
    "df_full_T.to_csv(r\"C:\\Users\\LENOVO\\Desktop\\Payroll_PFE\\Payroll Fraud Detection\\4. Models\\2. Classifier\\0. Classifier Data\\df_full\\Archive\\df_full_T2.csv\",index=False)    "
   ]
  },
  {
   "cell_type": "markdown",
   "id": "ed38f09b-8255-4f71-8851-fce219123a39",
   "metadata": {},
   "source": [
    "## Misclassification Fraud"
   ]
  },
  {
   "cell_type": "markdown",
   "id": "922ef67d-fb6c-422f-a657-6774f4725ae4",
   "metadata": {},
   "source": [
    "### Load"
   ]
  },
  {
   "cell_type": "code",
   "execution_count": 18,
   "id": "a3cba87c-9f4a-49ec-9c81-168aebe78ce8",
   "metadata": {},
   "outputs": [],
   "source": [
    "file_name_m = \"M9--21\"  # with no .json\n",
    "# file_name_m = \"M1-8\"  # with no .json"
   ]
  },
  {
   "cell_type": "code",
   "execution_count": 19,
   "id": "6370836a-5249-43eb-b602-7e7bc54d1f8e",
   "metadata": {},
   "outputs": [],
   "source": [
    "## Load New Fraud Data\n",
    "path_fr_m = r\"C:\\Users\\LENOVO\\Desktop\\Payroll_PFE\\Payroll Fraud Detection\\4. Models\\1. ADAPT-LLM\\Data_Fraud\\Fraud_Clean_data_pre-anon\\Misclassification\\\\\"\n",
    "df_fraud_new_m = pd.read_json(path_fr_m+file_name_m+\".json\")"
   ]
  },
  {
   "cell_type": "code",
   "execution_count": 20,
   "id": "18de0dba-3b86-4056-8504-bf8c07c5a00b",
   "metadata": {},
   "outputs": [],
   "source": [
    "## Load real data\n",
    "df_real_M = pd.read_csv(r\"C:\\Users\\LENOVO\\Desktop\\Payroll_PFE\\Payroll Fraud Detection\\4. Models\\2. Classifier\\Anonym Real Data\\df_M_Real_anonym_uniformized.csv\")\n",
    "\n",
    "## Load last updates\n",
    "df_fraud_last_upd_m = pd.read_csv(r\"C:\\Users\\LENOVO\\Desktop\\Payroll_PFE\\Payroll Fraud Detection\\4. Models\\2. Classifier\\0. Classifier Data\\df_fraud_last_upd\\Archive\\upd_M_1.csv\")\n",
    "L_M = pd.read_csv(r\"C:\\Users\\LENOVO\\Desktop\\Payroll_PFE\\Payroll Fraud Detection\\4. Models\\2. Classifier\\ID_Encoding\\ArchiveBis\\L_upd_M1.csv\")"
   ]
  },
  {
   "cell_type": "code",
   "execution_count": 30,
   "id": "1b068cf3-a06e-413f-93c0-13b62e5aec0a",
   "metadata": {},
   "outputs": [],
   "source": [
    "# L_M = L_M.iloc[1:].reset_index(drop=True)\n",
    "# L_M = L_M.tail(-1)"
   ]
  },
  {
   "cell_type": "markdown",
   "id": "751a4851-d79c-466f-b8ed-2d10b502462b",
   "metadata": {},
   "source": [
    "### Process"
   ]
  },
  {
   "cell_type": "code",
   "execution_count": null,
   "id": "b87b6637-838b-4e82-aeb2-78d713e8cb47",
   "metadata": {},
   "outputs": [],
   "source": [
    "L_upd_M, df_Fraud_upd_M, df_full_M = append_Last_Update_Fraud_Misc(df_fraud_new_m, df_fraud_last_upd_m, df_real_M, L_M)"
   ]
  },
  {
   "cell_type": "markdown",
   "id": "b769a562-8c02-4f01-bbb2-d41afa46d683",
   "metadata": {},
   "source": [
    "#### Updates are Autosaved for this case\n",
    "---------------------------------------"
   ]
  },
  {
   "cell_type": "code",
   "execution_count": null,
   "id": "2027e75c-870d-4463-a06f-feca016e9fce",
   "metadata": {},
   "outputs": [],
   "source": []
  },
  {
   "cell_type": "code",
   "execution_count": null,
   "id": "81abd6b0-b5b5-4699-8d70-662bc952a8ff",
   "metadata": {},
   "outputs": [],
   "source": []
  }
 ],
 "metadata": {
  "kernelspec": {
   "display_name": "Python 3 (ipykernel)",
   "language": "python",
   "name": "python3"
  },
  "language_info": {
   "codemirror_mode": {
    "name": "ipython",
    "version": 3
   },
   "file_extension": ".py",
   "mimetype": "text/x-python",
   "name": "python",
   "nbconvert_exporter": "python",
   "pygments_lexer": "ipython3",
   "version": "3.11.7"
  }
 },
 "nbformat": 4,
 "nbformat_minor": 5
}
